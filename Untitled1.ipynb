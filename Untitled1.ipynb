{
 "cells": [
  {
   "cell_type": "code",
   "execution_count": 8,
   "id": "3a2ca5d6-bf6e-4ee0-8fb0-38deedb8a82a",
   "metadata": {},
   "outputs": [],
   "source": [
    "# import pickle"
   ]
  },
  {
   "cell_type": "code",
   "execution_count": 9,
   "id": "6341fb1a-4cd7-4835-89ec-38a7b08ecae9",
   "metadata": {},
   "outputs": [],
   "source": [
    "# with open('model1.pkl','rb') as file:\n",
    "#     clf = pickle.load(file)"
   ]
  },
  {
   "cell_type": "code",
   "execution_count": 10,
   "id": "f725b587-a6a1-4f4a-a2f2-b73f3d7da395",
   "metadata": {},
   "outputs": [],
   "source": [
    "# prediction = clf.predict([[150]])"
   ]
  },
  {
   "cell_type": "code",
   "execution_count": 11,
   "id": "0390c9fb-02b6-4978-839c-24e4b94a3c82",
   "metadata": {},
   "outputs": [],
   "source": [
    "# prediction"
   ]
  },
  {
   "cell_type": "code",
   "execution_count": 1,
   "id": "5aa34443-52d9-427a-b081-c6740fe4b90d",
   "metadata": {},
   "outputs": [],
   "source": [
    "import numpy as np\n",
    "import pandas as pd\n",
    "from flask import Flask\n",
    "app = Flask(__name__)\n",
    "import pickle\n",
    "model = pickle.load(open('model1.pkl', 'rb'))\n"
   ]
  },
  {
   "cell_type": "code",
   "execution_count": 2,
   "id": "54d63b5e-fe4d-4a6e-8886-5ca6f5983ad2",
   "metadata": {},
   "outputs": [
    {
     "name": "stdout",
     "output_type": "stream",
     "text": [
      " * Serving Flask app '__main__'\n",
      " * Debug mode: on\n"
     ]
    },
    {
     "name": "stderr",
     "output_type": "stream",
     "text": [
      "WARNING: This is a development server. Do not use it in a production deployment. Use a production WSGI server instead.\n",
      " * Running on all addresses (0.0.0.0)\n",
      " * Running on http://127.0.0.1:5000\n",
      " * Running on http://192.168.10.7:5000\n",
      "Press CTRL+C to quit\n",
      "c:\\users\\arslan\\appdata\\local\\programs\\python\\python39\\lib\\site-packages\\sklearn\\base.py:493: UserWarning: X does not have valid feature names, but DecisionTreeClassifier was fitted with feature names\n",
      "  warnings.warn(\n",
      "127.0.0.1 - - [28/Apr/2024 08:49:53] \"POST /predict HTTP/1.1\" 200 -\n",
      "c:\\users\\arslan\\appdata\\local\\programs\\python\\python39\\lib\\site-packages\\sklearn\\base.py:493: UserWarning: X does not have valid feature names, but DecisionTreeClassifier was fitted with feature names\n",
      "  warnings.warn(\n",
      "127.0.0.1 - - [28/Apr/2024 08:55:17] \"POST /predict HTTP/1.1\" 200 -\n",
      "127.0.0.1 - - [28/Apr/2024 08:59:23] \"GET / HTTP/1.1\" 200 -\n",
      "127.0.0.1 - - [28/Apr/2024 09:00:18] \"GET /predict HTTP/1.1\" 405 -\n",
      "c:\\users\\arslan\\appdata\\local\\programs\\python\\python39\\lib\\site-packages\\sklearn\\base.py:493: UserWarning: X does not have valid feature names, but DecisionTreeClassifier was fitted with feature names\n",
      "  warnings.warn(\n",
      "127.0.0.1 - - [28/Apr/2024 09:00:54] \"POST /predict HTTP/1.1\" 200 -\n"
     ]
    }
   ],
   "source": [
    "from flask import Flask, request, jsonify\n",
    "from threading import Thread\n",
    "\n",
    "# Create a Flask application\n",
    "app = Flask(__name__)\n",
    "\n",
    "\n",
    "@app.route('/')\n",
    "def home():\n",
    "    return \"Hello World123\"\n",
    "\n",
    "# Define a route for POST requests\n",
    "@app.route('/predict', methods=['POST'])\n",
    "def predict():\n",
    "    # Get JSON data from the request\n",
    "    # data = request.get_json()\n",
    "    feature = request.form.get('feature')\n",
    "    # input_query = np.array([[feature]])\n",
    "    # result = model.predict(input_query)[0]\n",
    "    # Mock prediction logic (replace with your model's prediction call)\n",
    "    # prediction = {\"result\": feature}\n",
    "    prediction = model.predict([[feature]])\n",
    "    return jsonify({\"results1\" : str(prediction)})\n",
    "\n",
    "    # Return the prediction as a JSON response\n",
    "    # return jsonify(prediction)\n",
    "\n",
    "# Function to run the Flask app\n",
    "def run_app():\n",
    "    app.run(host='0.0.0.0', port=5000, debug=True, use_reloader=False)\n",
    "\n",
    "# Start the Flask app in a separate thread to avoid blocking the notebook\n",
    "flask_thread = Thread(target=run_app)\n",
    "flask_thread.start()"
   ]
  },
  {
   "cell_type": "code",
   "execution_count": null,
   "id": "314d56bd-2d06-4e43-999c-85bc3122573f",
   "metadata": {},
   "outputs": [],
   "source": []
  },
  {
   "cell_type": "code",
   "execution_count": null,
   "id": "420c7a44-e494-47eb-bb0d-607349759f26",
   "metadata": {},
   "outputs": [],
   "source": []
  }
 ],
 "metadata": {
  "kernelspec": {
   "display_name": "Python 3 (ipykernel)",
   "language": "python",
   "name": "python3"
  },
  "language_info": {
   "codemirror_mode": {
    "name": "ipython",
    "version": 3
   },
   "file_extension": ".py",
   "mimetype": "text/x-python",
   "name": "python",
   "nbconvert_exporter": "python",
   "pygments_lexer": "ipython3",
   "version": "3.9.0"
  }
 },
 "nbformat": 4,
 "nbformat_minor": 5
}
